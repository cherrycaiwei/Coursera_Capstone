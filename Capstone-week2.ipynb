{
 "cells": [
  {
   "cell_type": "markdown",
   "metadata": {},
   "source": [
    "### Introduction/Business Problem\n",
    "\n"
   ]
  },
  {
   "cell_type": "markdown",
   "metadata": {},
   "source": [
    "The goal of this project is to predict the severity of road accidents at certain locations based on various conditions. One of the target audience of the model is GPS applications like Google Map.\n",
    "\n",
    "When a user types in a destination and starts using the navigation function in the app, the app would prompt a warning if the place he is heading to or somewhere in the route is predicted to have a high chance of severe accident under the current conditions. The navigator could as well recommend a route that takes longer time but has lower risk to the user.\n"
   ]
  },
  {
   "cell_type": "markdown",
   "metadata": {},
   "source": [
    "#### Benefits of this project:\n"
   ]
  },
  {
   "cell_type": "markdown",
   "metadata": {},
   "source": [
    "This would help the users reduce chances of getting fatal or severe injury. If a user receives the warning, he could cancel his plan or change to a safer route. \n",
    "\n",
    "It is a good opportunity for the tech companies to make use of big data resources to show humanistic care to the communities. Reducing chances of traffic accidents can in turn help saving costs of municipal services like police and ambulance.\n"
   ]
  },
  {
   "cell_type": "markdown",
   "metadata": {},
   "source": [
    "## Data\n"
   ]
  },
  {
   "cell_type": "markdown",
   "metadata": {},
   "source": [
    "This project will use the sample \"Data-Collisions.csv\" file provided by the course to train the prediction model of traffic accidents' severity. The data contains accident records in Seattle of a date range from Jan 01, 2004 to May 02, 2020. There are 194673 events in the data set in total.\n",
    "\n",
    "Based on the definition of our problem, the factors that will used in the prediction of severity of road accidents include:"
   ]
  },
  {
   "cell_type": "markdown",
   "metadata": {},
   "source": [
    "* Geographical location\n",
    "* Number of vehicles involved\n",
    "* Weather factors (e.g., weather, road conditions, light conditions)\n",
    "* Time of day\n",
    "* Along with the severity level of the accident\n"
   ]
  },
  {
   "cell_type": "markdown",
   "metadata": {},
   "source": [
    "These inputs are selected because they can be easily collected in real time at the moment an accident is reported."
   ]
  },
  {
   "cell_type": "markdown",
   "metadata": {},
   "source": [
    "As a result, the following attributes will be analyzed:"
   ]
  },
  {
   "cell_type": "markdown",
   "metadata": {},
   "source": [
    "* The coordinates of the accident location X, Y\n",
    "* VEHCOUNT which shows number of vehicles  involved\n",
    "* WEATHER, ROADCOND, LIGHTCOND\n",
    "* INCDTTM\n",
    "* SEVERITYCODE\n"
   ]
  },
  {
   "cell_type": "markdown",
   "metadata": {},
   "source": [
    "Example of the data:"
   ]
  },
  {
   "cell_type": "code",
   "execution_count": null,
   "metadata": {},
   "outputs": [],
   "source": []
  }
 ],
 "metadata": {
  "kernelspec": {
   "display_name": "Python 3",
   "language": "python",
   "name": "python3"
  },
  "language_info": {
   "codemirror_mode": {
    "name": "ipython",
    "version": 3
   },
   "file_extension": ".py",
   "mimetype": "text/x-python",
   "name": "python",
   "nbconvert_exporter": "python",
   "pygments_lexer": "ipython3",
   "version": "3.7.6"
  }
 },
 "nbformat": 4,
 "nbformat_minor": 4
}
